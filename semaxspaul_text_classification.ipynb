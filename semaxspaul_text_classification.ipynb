{
  "nbformat": 4,
  "nbformat_minor": 0,
  "metadata": {
    "colab": {
      "provenance": []
    },
    "kernelspec": {
      "name": "python3",
      "display_name": "Python 3"
    },
    "language_info": {
      "name": "python"
    }
  },
  "cells": [
    {
      "cell_type": "markdown",
      "source": [
        "## TEXT CLASSIFICATION OF MOVIE REVIEWS\n",
        "In this notebook I aim to successfully classify movie reviews as positive or negative using the text of the review.\n",
        "\n",
        "> Data Acquisition Credit:\n",
        "[Learning Word Vectors for Sentiment Analysis](https://aclanthology.org/P11-1015) (Maas et al., ACL 2011)\n",
        "\n",
        ">> Code by:\n",
        "@semaxspaul"
      ],
      "metadata": {
        "id": "3z03n3heqn2Q"
      }
    },
    {
      "cell_type": "code",
      "execution_count": 41,
      "metadata": {
        "id": "4UbKMiKYqTGO"
      },
      "outputs": [],
      "source": [
        "import tensorflow as tf\n",
        "from tensorflow import keras\n",
        "import numpy as np\n",
        "import pandas as pd\n",
        "import matplotlib.pyplot as plt"
      ]
    },
    {
      "cell_type": "code",
      "source": [
        "from notebook.services.config import ConfigManager\n",
        "cm = ConfigManager().update('notebook', {'limit_output': 100})"
      ],
      "metadata": {
        "id": "MpoteoIbwqVQ"
      },
      "execution_count": 42,
      "outputs": []
    },
    {
      "cell_type": "code",
      "source": [
        "# Loading movie review data using the 'keras' API by tensorflow\n",
        "reviews_data = keras.datasets.imdb"
      ],
      "metadata": {
        "id": "owWQP4ljsgGo"
      },
      "execution_count": 43,
      "outputs": []
    },
    {
      "cell_type": "markdown",
      "source": [
        "> Pre-Processing Data"
      ],
      "metadata": {
        "id": "XzdLnfPct7Ym"
      }
    },
    {
      "cell_type": "code",
      "source": [
        "# Splitting data into training and testing sets\n",
        "(train_data, train_labels), (test_data, test_labels) = reviews_data.load_data(num_words=200000)"
      ],
      "metadata": {
        "id": "VCsTmAwutrJC"
      },
      "execution_count": 44,
      "outputs": []
    },
    {
      "cell_type": "code",
      "source": [
        "# Word mapping Retrival\n",
        "word_index = reviews_data.get_word_index()"
      ],
      "metadata": {
        "id": "vdtoUqOfuB0b"
      },
      "execution_count": 45,
      "outputs": []
    },
    {
      "cell_type": "code",
      "source": [
        "# Review Editting\n",
        "word_index = {key:value+3 for key, value in word_index.items()}\n",
        "word_index[\"<PAD>\"] = 0\n",
        "word_index[\"<START>\"] = 1\n",
        "word_index[\"<UNK>\"] = 2\n",
        "word_index[\"<UNUSED>\"] = 3"
      ],
      "metadata": {
        "id": "7nV5jmCbuVrY"
      },
      "execution_count": 46,
      "outputs": []
    },
    {
      "cell_type": "code",
      "source": [
        "# Reversing the word_index dictionary\n",
        "reverse_word_index = dict([(value, key) for (key, value) in word_index.items()])"
      ],
      "metadata": {
        "id": "b418Bcgxvsfg"
      },
      "execution_count": 47,
      "outputs": []
    },
    {
      "cell_type": "code",
      "source": [
        "# Regenerating actual worded review\n",
        "def decode_review(text):\n",
        "  return \" \".join([reverse_word_index.get(i, \"?\") for i in text])"
      ],
      "metadata": {
        "id": "Xerd18wy0Cxz"
      },
      "execution_count": 48,
      "outputs": []
    },
    {
      "cell_type": "code",
      "source": [
        "# Setting a fixed length for all reviews\n",
        "train_data = keras.preprocessing.sequence.pad_sequences(train_data, value=word_index[\"<PAD>\"], padding=\"post\", maxlen=250)\n",
        "test_data = keras.preprocessing.sequence.pad_sequences(test_data, value=word_index[\"<PAD>\"], padding=\"post\", maxlen=250)"
      ],
      "metadata": {
        "id": "0nesZrfh0E51"
      },
      "execution_count": 49,
      "outputs": []
    },
    {
      "cell_type": "markdown",
      "source": [
        "> Developing Model"
      ],
      "metadata": {
        "id": "mriqg9NU31aB"
      }
    },
    {
      "cell_type": "code",
      "source": [
        "from keras.api._v2.keras import activations\n",
        "model = keras.Sequential()\n",
        "model.add(keras.layers.Embedding(200000, 16))\n",
        "model.add(keras.layers.GlobalAveragePooling1D())\n",
        "model.add(keras.layers.Dense(16, activation='relu'))\n",
        "model.add(keras.layers.Dense(1, activation='sigmoid'))\n",
        "\n",
        "model.summary()"
      ],
      "metadata": {
        "colab": {
          "base_uri": "https://localhost:8080/"
        },
        "id": "3_hFZREI0k3A",
        "outputId": "4ed0c35d-bacd-440e-b394-9949bed1ee9e"
      },
      "execution_count": 50,
      "outputs": [
        {
          "output_type": "stream",
          "name": "stdout",
          "text": [
            "Model: \"sequential_1\"\n",
            "_________________________________________________________________\n",
            " Layer (type)                Output Shape              Param #   \n",
            "=================================================================\n",
            " embedding_1 (Embedding)     (None, None, 16)          3200000   \n",
            "                                                                 \n",
            " global_average_pooling1d_1   (None, 16)               0         \n",
            " (GlobalAveragePooling1D)                                        \n",
            "                                                                 \n",
            " dense_2 (Dense)             (None, 16)                272       \n",
            "                                                                 \n",
            " dense_3 (Dense)             (None, 1)                 17        \n",
            "                                                                 \n",
            "=================================================================\n",
            "Total params: 3,200,289\n",
            "Trainable params: 3,200,289\n",
            "Non-trainable params: 0\n",
            "_________________________________________________________________\n"
          ]
        }
      ]
    },
    {
      "cell_type": "code",
      "source": [
        "# Defining model metrics and initial hyperparameters\n",
        "model.compile(optimizer='adam', loss='binary_crossentropy', metrics=['accuracy'])\n",
        "\n",
        "# creating a validation set\n",
        "val_data = train_data[:10000]\n",
        "train_data = train_data[10000:]\n",
        "\n",
        "val_labels = train_labels[:10000]\n",
        "train_labels = train_labels[10000:]"
      ],
      "metadata": {
        "id": "jUYcUNg35L3U"
      },
      "execution_count": 51,
      "outputs": []
    },
    {
      "cell_type": "code",
      "source": [
        "# Fitting the model\n",
        "model.fit(train_data, train_labels,\n",
        "          epochs=40, \n",
        "          batch_size=512, \n",
        "          validation_data=(val_data, val_labels),\n",
        "          verbose=1)"
      ],
      "metadata": {
        "colab": {
          "base_uri": "https://localhost:8080/"
        },
        "id": "cl09C54HtLax",
        "outputId": "a5d46cef-9e30-4c24-bccb-4da55079d9d2"
      },
      "execution_count": 52,
      "outputs": [
        {
          "output_type": "stream",
          "name": "stdout",
          "text": [
            "30/30 [==============================] - 1s 37ms/step - loss: 0.0352 - accuracy: 0.9953 - val_loss: 0.3032 - val_accuracy: 0.8857\n",
            "Epoch 40/40\n",
            "30/30 [==============================] - 2s 54ms/step - loss: 0.0332 - accuracy: 0.9957 - val_loss: 0.3041 - val_accuracy: 0.8859\n"
          ]
        },
        {
          "output_type": "execute_result",
          "data": {
            "text/plain": [
              "<keras.callbacks.History at 0x7fd2cd5649d0>"
            ]
          },
          "metadata": {},
          "execution_count": 52
        }
      ]
    },
    {
      "cell_type": "code",
      "source": [
        "# Model Evaluation\n",
        "results = model.evaluate(test_data, test_labels)\n",
        "\n",
        "print(results)"
      ],
      "metadata": {
        "colab": {
          "base_uri": "https://localhost:8080/"
        },
        "id": "-qvVJCiztuSL",
        "outputId": "9415a499-139a-4002-e8d0-b818903aa482"
      },
      "execution_count": 53,
      "outputs": [
        {
          "output_type": "stream",
          "name": "stdout",
          "text": [
            "782/782 [==============================] - 1s 1ms/step - loss: 0.3391 - accuracy: 0.8715\n",
            "[0.3390657901763916, 0.8714799880981445]\n"
          ]
        }
      ]
    },
    {
      "cell_type": "markdown",
      "source": [
        "> Model Sample Test"
      ],
      "metadata": {
        "id": "ruah6A2Uuomb"
      }
    },
    {
      "cell_type": "code",
      "source": [
        "test_review = test_data[0]\n",
        "predict = model.predict([test_review.reshape(-1,1)])\n",
        "print(f\"Review: \\n{decode_review(test_review)}\")\n",
        "print(f\"Sentiment Prediction: {str(round(predict[0][0], 2))}\")\n",
        "print(f\"Actual Sentiment: {test_labels[0]}\")\n",
        "print(results)"
      ],
      "metadata": {
        "colab": {
          "base_uri": "https://localhost:8080/"
        },
        "id": "DZJjkB8IuSFs",
        "outputId": "e1ca31e2-1a51-49a9-c82c-b2f585ddaf87"
      },
      "execution_count": 54,
      "outputs": [
        {
          "output_type": "stream",
          "name": "stdout",
          "text": [
            "8/8 [==============================] - 0s 1ms/step\n",
            "Review: \n",
            "<START> please give this one a miss br br kristy swanson and the rest of the cast rendered terrible performances the show is flat flat flat br br i don't know how michael madison could have allowed this one on his plate he almost seemed to know this wasn't going to work out and his performance was quite lacklustre so all you madison fans give this a miss <PAD> <PAD> <PAD> <PAD> <PAD> <PAD> <PAD> <PAD> <PAD> <PAD> <PAD> <PAD> <PAD> <PAD> <PAD> <PAD> <PAD> <PAD> <PAD> <PAD> <PAD> <PAD> <PAD> <PAD> <PAD> <PAD> <PAD> <PAD> <PAD> <PAD> <PAD> <PAD> <PAD> <PAD> <PAD> <PAD> <PAD> <PAD> <PAD> <PAD> <PAD> <PAD> <PAD> <PAD> <PAD> <PAD> <PAD> <PAD> <PAD> <PAD> <PAD> <PAD> <PAD> <PAD> <PAD> <PAD> <PAD> <PAD> <PAD> <PAD> <PAD> <PAD> <PAD> <PAD> <PAD> <PAD> <PAD> <PAD> <PAD> <PAD> <PAD> <PAD> <PAD> <PAD> <PAD> <PAD> <PAD> <PAD> <PAD> <PAD> <PAD> <PAD> <PAD> <PAD> <PAD> <PAD> <PAD> <PAD> <PAD> <PAD> <PAD> <PAD> <PAD> <PAD> <PAD> <PAD> <PAD> <PAD> <PAD> <PAD> <PAD> <PAD> <PAD> <PAD> <PAD> <PAD> <PAD> <PAD> <PAD> <PAD> <PAD> <PAD> <PAD> <PAD> <PAD> <PAD> <PAD> <PAD> <PAD> <PAD> <PAD> <PAD> <PAD> <PAD> <PAD> <PAD> <PAD> <PAD> <PAD> <PAD> <PAD> <PAD> <PAD> <PAD> <PAD> <PAD> <PAD> <PAD> <PAD> <PAD> <PAD> <PAD> <PAD> <PAD> <PAD> <PAD> <PAD> <PAD> <PAD> <PAD> <PAD> <PAD> <PAD> <PAD> <PAD> <PAD> <PAD> <PAD> <PAD> <PAD> <PAD> <PAD> <PAD> <PAD> <PAD> <PAD> <PAD> <PAD> <PAD> <PAD> <PAD> <PAD> <PAD> <PAD> <PAD> <PAD> <PAD> <PAD> <PAD> <PAD> <PAD> <PAD>\n",
            "Sentiment Prediction: 0.0\n",
            "Actual Sentiment: 0\n",
            "[0.3390657901763916, 0.8714799880981445]\n"
          ]
        }
      ]
    },
    {
      "cell_type": "markdown",
      "source": [
        "> Saving the Model"
      ],
      "metadata": {
        "id": "xMgiIZRI5U5W"
      }
    },
    {
      "cell_type": "code",
      "source": [
        "# Saving this model\n",
        "model.save('semaxspaul_movie_review_sentiment.h5')"
      ],
      "metadata": {
        "id": "VnrisGMLvsoz"
      },
      "execution_count": 55,
      "outputs": []
    },
    {
      "cell_type": "markdown",
      "source": [
        "> Testing the model on external data\n",
        ">> I obtained a (10/10) movie review on Blank Panther Wakanda forever 2022 and saved it in ***'external_data_test.txt'*** file\n",
        ">>> Link: https://www.imdb.com/review/rw8669414/?ref_=tt_urv "
      ],
      "metadata": {
        "id": "XgVaP0Kh8Pjp"
      }
    },
    {
      "cell_type": "code",
      "source": [
        "# Loading the model\n",
        "review_model = keras.models.load_model('/content/semaxspaul_movie_review_sentiment.h5')"
      ],
      "metadata": {
        "id": "5BRrwFfF52Zj"
      },
      "execution_count": 56,
      "outputs": []
    },
    {
      "cell_type": "code",
      "source": [
        "# Function to encode a review\n",
        "def encode_review(text):\n",
        "  # 1 corresponds to <START>\n",
        "  encoded_text = [1]\n",
        "\n",
        "  for word in text:\n",
        "    if word.lower() in word_index:\n",
        "      encoded_text.append(word_index[word.lower()])\n",
        "    else:\n",
        "      # 2 corresponds to unknown words <UNK>\n",
        "      encoded_text.append(2)\n",
        "\n",
        "  return encoded_text"
      ],
      "metadata": {
        "id": "yKnxWzJEBa4U"
      },
      "execution_count": 57,
      "outputs": []
    },
    {
      "cell_type": "code",
      "source": [
        "# Preprocessing the external data\n",
        "with open('/content/external_data_test.txt', encoding='utf-8') as f:\n",
        "  for line in f.readlines():\n",
        "    new_line = line.replace(',','').replace('.','').replace('(','').replace(')','').replace(':','').replace('*','').replace('\\\"','').strip().split()\n",
        "    encoded = encode_review(new_line)\n",
        "    encoded = keras.preprocessing.sequence.pad_sequences([encoded], value=word_index[\"<PAD>\"], padding=\"post\", maxlen=250)\n",
        "    sentiment_prediction = review_model.predict(encoded)\n",
        "    print(f\"Review: \\n{line}\")\n",
        "    print(f\"Encoded Review: \\n{encoded}\\n\")\n",
        "    print(f\"Sentiment Prediction: {str(round(sentiment_prediction[0][0], 2))}\")\n",
        "    print(f\"Actual Sentiment: Positive (1) \")\n"
      ],
      "metadata": {
        "colab": {
          "base_uri": "https://localhost:8080/"
        },
        "id": "pL3NKHtD9ftj",
        "outputId": "9d33d09f-d213-4a3e-e98b-1efaaf01b698"
      },
      "execution_count": 58,
      "outputs": [
        {
          "output_type": "stream",
          "name": "stdout",
          "text": [
            "1/1 [==============================] - 0s 47ms/step\n",
            "Review: \n",
            "I'll preface this by stating that I do NOT understand the mixed reviews. There is not one element of this that I would've done differently. This 2-hour-and-41-minute epic had me hooked from start to finish. No other Marvel property in my opinion, particularly in Phase 4, can match this level of quality, and that's in no small part due to Ryan Coogler, Angela Bassett, Letitia Wright, and the incredibly talented (not to mention gorgeous) newcomer Tenoch Huerta. The talent on display in *every single element* of this film is going to be tough to match, even from next month's Avatar: The Way of Water. Speaking of Avatar 2, they now have some SERIOUS competition in EVERY Oscar category next year, thanks to this film. I could honestly see this sweeping every category and making a strong play for Best Picture. The acting: Fantastic. Angela Bassett is magnificent. Letitia Wright is wonderful.  Tenoch Huerta brings a depth to his Namor that is rare in any film, much less a Marvel one. I believe he is perhaps an even better incarnation of the already-deep Killmonger from the first film. It's hard not to see the world from his perspective at least once. The technical craft: Spectacular. I haven't wanted to visit a new world so badly (the underwater world of Talokan) since the first Black Panther sent me to Wakanda and the first Avatar sent me to Pandora. It. Is. Breathtaking. The score: Unparalleled. Ludwig Goransson has outdone himself with this. It's even better than the first film. It's my favorite score for a movie in years. The writing and direction: Masterful. Ryan Coogler deserves recognition for elevating this DRAMATICALLY above anything else offered up in Marvel's mixed-bag Phase 4. Coogler manages to make an above-par Marvel epic that has meaningful things to say about loss, grief, sisterhood, motherhood, friendship, and moving on, while also ending on a POWERFUL and prescient note about how nations should treat each other in this post-modern world we all inhabit. What else is there to say? I loved every minute of it.\n",
            "Encoded Review: \n",
            "[[   39   375 26337 24450     4    96     7  1093  1386     7 24450   241\n",
            "     36   150    28    49   622  3533    11   175   735  2385   375   291\n",
            "   1216     8    14    22    13   100  1252    67    14  8879   175  2385\n",
            "      5   231     6   565   297    18   118   431     4   116   777  4937\n",
            "  17231     9  2000     2  7642     9   389     2     2   961     6  1137\n",
            "      8    27     2    15     9  1281    11   101    22    76   329     6\n",
            "   5647    31    13   264    29     9   382    35    60   128  9674     7\n",
            "      4     2     2    39     4    86    22    45   254    24     8    67\n",
            "      4   182    39    27  1971    33   222   280     4  1759  3914  2093\n",
            "     13   774   473     8  1980     6   162   182    38   913     4  6354\n",
            "    182     7     2   237     4    86   328 17444  1412    72     8     2\n",
            "      5     4    86 24450  1412    72     8 38951    12     9  2877     4\n",
            "    603 19524 36283     2    47 21060   309    19    14    45    60   128\n",
            "     74     4    86    22    45    61   514   603    18     6    20    11\n",
            "    153     4   487     5   458  4796  2381     2  1015  4637    18 27475\n",
            "     14  6731   752   233   334  2564    56    11 73033     2  6925   470\n",
            "      2  1030     8    97    35     2  5647  1711    15    47  3191   183\n",
            "      8   135    44  1937  5164 38802 21531  1862     5   728    23   137\n",
            "     82   277    23     6   976     5 18755   854    44    89  6218   144\n",
            "   1694   257    85    11    14     2   182    75    32  8871    51   334\n",
            "      9    50     8     2    13   447   175   786     7    12]]\n",
            "\n",
            "Sentiment Prediction: 1.0\n",
            "Actual Sentiment: Positive (1) \n"
          ]
        }
      ]
    },
    {
      "cell_type": "markdown",
      "source": [
        "The model predicted the sentiment of the review as expected."
      ],
      "metadata": {
        "id": "e58Plje_EV5J"
      }
    },
    {
      "cell_type": "code",
      "source": [],
      "metadata": {
        "id": "uYVTwIMWD0Mb"
      },
      "execution_count": null,
      "outputs": []
    }
  ]
}